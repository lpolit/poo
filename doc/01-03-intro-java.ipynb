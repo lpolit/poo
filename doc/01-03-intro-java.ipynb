{
 "cells": [
  {
   "cell_type": "markdown",
   "id": "bca09691-bdd8-4afa-9179-4fe8214ef926",
   "metadata": {},
   "source": [
    "# Java\n",
    "---"
   ]
  },
  {
   "cell_type": "markdown",
   "id": "39e081d6-b04b-4d12-92d0-92b83d1ab468",
   "metadata": {},
   "source": [
    "* Es un lenguaje de programación\n",
    "* Es compilador e interpretado\n",
    "* Multipropósito: app web, video juegos, ingenieria de software, ...\n",
    "* Multiplataforma: win, mac, linux, ...\n",
    "* Multiparadigma: procedimental, oo, funcional\n",
    "* Software libre (gratuito)\n",
    "* Gran comunidad (dan soporte y ayudan a mejorar continuamente el lenguaje)"
   ]
  },
  {
   "cell_type": "markdown",
   "id": "37f0973e-9d59-41db-bebe-828839c1b5b4",
   "metadata": {},
   "source": [
    "![Plataforma de Java](img/java-plataforma.png)"
   ]
  },
  {
   "cell_type": "markdown",
   "id": "23e4b384-ca94-4a31-8a1f-a4c0a934c28f",
   "metadata": {},
   "source": [
    "## Instalación\n",
    "---"
   ]
  },
  {
   "cell_type": "markdown",
   "id": "10f61f17-fe45-4fdb-a5c6-27d82d77af50",
   "metadata": {},
   "source": [
    "* Comprobar instalación"
   ]
  },
  {
   "cell_type": "code",
   "execution_count": 3,
   "id": "cf6866ea-b124-4f74-aa12-08ced374bb24",
   "metadata": {},
   "outputs": [
    {
     "name": "stdout",
     "output_type": "stream",
     "text": [
      "openjdk 11.0.11 2021-04-20\n",
      "OpenJDK Runtime Environment AdoptOpenJDK-11.0.11+9 (build 11.0.11+9)\n",
      "OpenJDK 64-Bit Server VM AdoptOpenJDK-11.0.11+9 (build 11.0.11+9, mixed mode)\n"
     ]
    }
   ],
   "source": [
    "!java --version"
   ]
  },
  {
   "cell_type": "markdown",
   "id": "0836b0d6-07e2-440b-97f5-c0f2c61540c9",
   "metadata": {},
   "source": [
    "* [Sitio web para descarga gratuita: https://learn.microsoft.com/es-es/java/openjdk/download](https://learn.microsoft.com/es-es/java/openjdk/download)"
   ]
  },
  {
   "cell_type": "markdown",
   "id": "54e74f6c-faf5-4f1e-8799-c2ea2be20d83",
   "metadata": {},
   "source": [
    "## IDE\n",
    "---"
   ]
  },
  {
   "cell_type": "markdown",
   "id": "5924e8aa-5b37-471c-b570-97c3c259e8fe",
   "metadata": {},
   "source": [
    "* Es una aplicación que provee un entorno de desarrollo de software con diversas herramientas integradas:\n",
    "    * editor de código con resaltador de sintaxis\n",
    "    * compilador\n",
    "    * depurador\n",
    "    * terminal\n",
    "    * control de versiones\n",
    "    * etc"
   ]
  },
  {
   "cell_type": "markdown",
   "id": "44221f3f-34d2-48f2-b8db-c06ac3f7d7b7",
   "metadata": {},
   "source": [
    "* Herramientas:\n",
    "    * Eclipse\n",
    "    * IntelliJ IDEA\n",
    "    * [Visual Studio Code](https://code.visualstudio.com/)"
   ]
  },
  {
   "cell_type": "markdown",
   "id": "600ddc08-f0d6-40ac-a114-23845e37f19c",
   "metadata": {},
   "source": [
    "## Comandos\n",
    "---\n",
    "\n",
    "* Un programa de Java es un archivo de texto que contiene secuencia de sentencias o comandos\n",
    "* Cada comando se termina con un **;**\n",
    "* Los comandos son ejecutados uno luego del otro"
   ]
  },
  {
   "cell_type": "markdown",
   "id": "40f11710-937a-416f-b4db-ac6416b8008f",
   "metadata": {},
   "source": [
    "## Hola mundo"
   ]
  },
  {
   "cell_type": "code",
   "execution_count": 1,
   "id": "c0eb9d03-71b8-41ea-90f4-3f692df46012",
   "metadata": {},
   "outputs": [
    {
     "name": "stdout",
     "output_type": "stream",
     "text": [
      "Writing HolaMundo.java\n"
     ]
    }
   ],
   "source": [
    "%%file HolaMundo.java\n",
    "public class HolaMundo { \n",
    "    public static void main(String[] args) { \n",
    "        System.out.println(\"Hola Mundo\"); \n",
    "    }\n",
    "}"
   ]
  },
  {
   "cell_type": "markdown",
   "id": "08b67df7-3787-4c0e-9956-a6b5bef0a332",
   "metadata": {},
   "source": [
    "## Compilación por línea de comandos"
   ]
  },
  {
   "cell_type": "code",
   "execution_count": 2,
   "id": "1a2031bb-c58a-4757-a410-0d169635db44",
   "metadata": {},
   "outputs": [],
   "source": [
    "!javac HolaMundo.java"
   ]
  },
  {
   "cell_type": "markdown",
   "id": "90e0a0dc-de83-458b-a23c-c31fbd296c5c",
   "metadata": {},
   "source": [
    "## Ejecución por línea de comandos"
   ]
  },
  {
   "cell_type": "code",
   "execution_count": 3,
   "id": "2daa9f2c-c98f-437b-a4eb-f8c7c2cd95be",
   "metadata": {},
   "outputs": [
    {
     "name": "stdout",
     "output_type": "stream",
     "text": [
      "Hola Mundo\n"
     ]
    }
   ],
   "source": [
    "!java HolaMundo"
   ]
  },
  {
   "cell_type": "markdown",
   "id": "4c1b12c3-03d3-4abb-b76f-a9298f2edfbd",
   "metadata": {},
   "source": [
    "## Comentarios\n",
    "---\n",
    "\n",
    "* Documentación dentro del código\n",
    "* No se interpreta, no se ejecuta"
   ]
  },
  {
   "cell_type": "code",
   "execution_count": null,
   "id": "4d93e7bf-5258-4df2-9685-3121728020d5",
   "metadata": {},
   "outputs": [],
   "source": [
    "// Esto es un comentario unilínea\n",
    "\n",
    "/* Esto es un comentario\n",
    "    multilíneas\n",
    "*/\n",
    "\n",
    "/** \n",
    " *  Esto es un comentario para documentar con javadoc\n",
    " *  mediante metadata\n",
    " *  @param cont contador, \n",
    " *  @return el promedio, \n",
    " *  @throws NumberFormatException, \n",
    " *  @author Pablo Pandolfo, \n",
    " *  @version 1.0\n",
    " */"
   ]
  },
  {
   "cell_type": "markdown",
   "id": "d0874e11-5d3f-4467-bc97-ab12e1c2b2d8",
   "metadata": {},
   "source": [
    "## Bloques\n",
    "---"
   ]
  },
  {
   "cell_type": "markdown",
   "id": "b4ea7999-27fb-424d-adfe-6e126694bc05",
   "metadata": {},
   "source": [
    "* Mediante llaves"
   ]
  },
  {
   "cell_type": "code",
   "execution_count": null,
   "id": "957b6754-74d6-4d6b-87ca-c754df9b3562",
   "metadata": {},
   "outputs": [],
   "source": [
    "a = 2;\n",
    "if (a > 1) {\n",
    "    print('a es mayor que 1')\n",
    "}"
   ]
  },
  {
   "cell_type": "markdown",
   "id": "9f1165ce-2a2d-4b7d-8d4e-9bc729a87674",
   "metadata": {},
   "source": [
    "## Variables\n",
    "---\n",
    "\n",
    "* Almacenan valores y se crean cuando se les asigna un valor\n",
    "* Requiere declarar las variables con su tipo de datos\n",
    "* Nombre: (L)(L|D|\\_)* son case sensitive (Java diferencia entre min y MAY)"
   ]
  },
  {
   "cell_type": "code",
   "execution_count": null,
   "id": "4906da77-943a-4729-b346-a9916a7b3b94",
   "metadata": {},
   "outputs": [],
   "source": [
    "byte enteroByte   = 1;    // 1 byte\n",
    "short enteroShort = 2;    // 2 bytes\n",
    "int enteroInt     = 4;    // 4 bytes\n",
    "long enteroLong   = 8;    // 8 bytes\n",
    "float realFloat   = 4.5;  // 4 bytes\n",
    "double realDouble = 8.5;  // 8 bytes\n",
    "boolean logico    = true; // 1 byte\n",
    "char caracter     = 'a';  // 2 bytes"
   ]
  },
  {
   "cell_type": "markdown",
   "id": "278981a1-2b3c-40a8-9e79-f7def5ec7713",
   "metadata": {},
   "source": [
    "## Conversiones de tipos\n",
    "---"
   ]
  },
  {
   "cell_type": "markdown",
   "id": "8e15f76f-501d-4279-9882-5b650ea43c07",
   "metadata": {},
   "source": [
    "![](img/transformaciones-datos.jpg)"
   ]
  },
  {
   "cell_type": "markdown",
   "id": "46043712-eca6-4c51-af7e-f543a48765ca",
   "metadata": {},
   "source": [
    "## Operadores\n",
    "---"
   ]
  },
  {
   "cell_type": "markdown",
   "id": "54540ed3-50eb-47bc-b385-730c15ac099a",
   "metadata": {},
   "source": [
    "### Aritméticos = {+, -, *, /, %}\n",
    "---"
   ]
  },
  {
   "cell_type": "code",
   "execution_count": null,
   "id": "906d6677-4632-4466-a069-0cbc9d7d221d",
   "metadata": {
    "scrolled": true
   },
   "outputs": [],
   "source": [
    "// suma\n",
    "3 + 2"
   ]
  },
  {
   "cell_type": "code",
   "execution_count": null,
   "id": "ee53e500-c33e-4648-b5ff-7070bfac45d0",
   "metadata": {
    "scrolled": true
   },
   "outputs": [],
   "source": [
    "// resta\n",
    "3 - 2"
   ]
  },
  {
   "cell_type": "code",
   "execution_count": null,
   "id": "3194ec66-1b58-4cf6-b3c5-ee2f2985cfea",
   "metadata": {},
   "outputs": [],
   "source": [
    "// multiplicación\n",
    "3 * 2"
   ]
  },
  {
   "cell_type": "code",
   "execution_count": null,
   "id": "1bd10a0a-a837-4196-b109-b814b10926c2",
   "metadata": {},
   "outputs": [],
   "source": [
    "// división\n",
    "3 / 2"
   ]
  },
  {
   "cell_type": "code",
   "execution_count": null,
   "id": "8c661697-79cb-4b4e-aa07-5dee3ecb04d6",
   "metadata": {},
   "outputs": [],
   "source": [
    "// módulo: resto de la división\n",
    "3 % 2"
   ]
  },
  {
   "cell_type": "markdown",
   "id": "9d7bf18f-9eaa-4dda-be76-7b18fd7810bc",
   "metadata": {},
   "source": [
    "### Expresiones aritméticas\n",
    "---"
   ]
  },
  {
   "cell_type": "code",
   "execution_count": null,
   "id": "3b619e2e-0a6b-4379-91d2-1a4c6baa46c1",
   "metadata": {},
   "outputs": [],
   "source": [
    "// se considera la precedencia de operadores\n",
    "(1 + 2/2) * 5 + 13"
   ]
  },
  {
   "cell_type": "markdown",
   "id": "da64912c-25b7-4e21-bc57-fe953ebe1c45",
   "metadata": {},
   "source": [
    "### Asignación = {=, +=, -=, *=, /=, %=}\n",
    "---"
   ]
  },
  {
   "cell_type": "code",
   "execution_count": null,
   "id": "297e857e-c4ed-4d7f-9520-1e607124424c",
   "metadata": {},
   "outputs": [],
   "source": [
    "// asignación\n",
    "a = 1"
   ]
  },
  {
   "cell_type": "code",
   "execution_count": null,
   "id": "bb840fc4-00dd-4052-bfcd-445e74810033",
   "metadata": {},
   "outputs": [],
   "source": [
    "// suma y asignación\n",
    "a += 1"
   ]
  },
  {
   "cell_type": "markdown",
   "id": "22f1789c-6ce2-4955-915d-d2db2391f223",
   "metadata": {},
   "source": [
    "### Relacionales = {==, !=, >, >=, <, <=}\n",
    "---"
   ]
  },
  {
   "cell_type": "code",
   "execution_count": null,
   "id": "ddab1756-fe03-4267-be44-23e7a343c442",
   "metadata": {},
   "outputs": [],
   "source": [
    "// igualdad\n",
    "2 == 2"
   ]
  },
  {
   "cell_type": "code",
   "execution_count": null,
   "id": "d2653b8b-cb96-41c8-873c-bf62ac0d02d1",
   "metadata": {},
   "outputs": [],
   "source": [
    "// distinto\n",
    "2 != 2"
   ]
  },
  {
   "cell_type": "code",
   "execution_count": null,
   "id": "333d0722-74be-4604-8279-4427b0b957c2",
   "metadata": {},
   "outputs": [],
   "source": [
    "// mayor\n",
    "4 > 2"
   ]
  },
  {
   "cell_type": "markdown",
   "id": "e00b105e-b2b2-4dca-ba53-0f229626951a",
   "metadata": {},
   "source": [
    "### Lógicos = {&&, ||, !}\n",
    "---"
   ]
  },
  {
   "cell_type": "code",
   "execution_count": null,
   "id": "434d838b-4396-47c0-8eb4-998122040d0c",
   "metadata": {},
   "outputs": [],
   "source": [
    "# conjunción\n",
    "(2 == 2) && (4 > 2)"
   ]
  },
  {
   "cell_type": "markdown",
   "id": "c590b6b9-a47a-44c8-80c4-884a88396027",
   "metadata": {},
   "source": [
    "### Otros = {[], (refundición), new, instanceof}\n",
    "---"
   ]
  },
  {
   "cell_type": "code",
   "execution_count": null,
   "id": "28ac3b26-9338-41bd-90f5-afad3707d6e9",
   "metadata": {},
   "outputs": [],
   "source": [
    "\"pepe\" instanceof String"
   ]
  },
  {
   "cell_type": "markdown",
   "id": "4f3470ef-efac-4837-bf89-b66ab8b6613e",
   "metadata": {},
   "source": [
    "## Entrada por terminal\n",
    "---"
   ]
  },
  {
   "cell_type": "code",
   "execution_count": null,
   "id": "34ab3e77-2a22-4857-b669-03b5bf760d0c",
   "metadata": {},
   "outputs": [],
   "source": [
    "Scanner in = new Scanner(System.in);\n",
    "in.nextLine();       // lee una línea de entrada\n",
    "in.next();           // lee una sola palabra\n",
    "in.nextInt();        // lee un entero\n",
    "in.nextDouble();     // lee número de coma flotante\n",
    "in.hasNext();        // si hay o no otra palabra\n",
    "in.hasNextInt();     // si hay o no otro entero\n",
    "in.hasNextDouble();  // si hay o no otro número de coma flotante"
   ]
  },
  {
   "cell_type": "markdown",
   "id": "cb28d69f-1ef9-4314-9da7-317b4c7c7885",
   "metadata": {},
   "source": [
    "## Salida por terminal\n",
    "---"
   ]
  },
  {
   "cell_type": "code",
   "execution_count": null,
   "id": "b9540cb8-6ed1-4b21-87b9-97ca1834a41c",
   "metadata": {},
   "outputs": [],
   "source": [
    "System.out.print(\"Hola mundo\");\n",
    "System.out.println(\"Hola mundo\");\n",
    "\n",
    "Double x = 10000.0/3.0;\n",
    "System.out.println(x);          // 3333.3333333\n",
    "System.out.printf(\"%8.2f\", x);  // 3333.33\n",
    "System.out.printf(\"%,.2f\", x);  // 3,333.33\n",
    "\n",
    "String.format(“Hola, %s. El año que viene tendrás %d”, nombre, edad);"
   ]
  },
  {
   "cell_type": "markdown",
   "id": "74d1e708-5df3-46d1-b085-080619d659f1",
   "metadata": {},
   "source": [
    "## Cadenas"
   ]
  },
  {
   "cell_type": "markdown",
   "id": "f9872d84-0478-4d7b-9df9-4f273776d155",
   "metadata": {},
   "source": [
    "* Los String son instancias de la clase java.lang.String\n",
    "* El compilador trata a los String como si fuesen tipos del lenguajes\n",
    "* Son inmutables"
   ]
  },
  {
   "cell_type": "code",
   "execution_count": null,
   "id": "442b7870-1950-46d7-891e-95716430ad70",
   "metadata": {},
   "outputs": [],
   "source": [
    "String saludo = \"Hola\";\n",
    "String otroSaludo = new String(\"Como andás?\");\n",
    "\n",
    "saludo.length();\n",
    "saludo.charAt(0);\n",
    "saludo.substring(0,2);\n",
    "saludo.compareTo(\"adios\");\n",
    "saludo.equals(\"Hol\");\n",
    "saludo.split(\"o\");\n",
    "saludo.trim();\n",
    "saludo.indexOf(\"a\");\n",
    "saludo.indexOf(\"a\", 2);\n",
    "saludo.toLowerCase();\n",
    "saludo.toUpperCase();\n",
    "saludo.equalsIgnoreCase(\"h\");\n",
    "saludo.endsWith(\"la\");"
   ]
  },
  {
   "cell_type": "markdown",
   "id": "fc012d2b-beab-4e58-ba23-9abb1e4f7ad3",
   "metadata": {},
   "source": [
    "## Estructuras de control"
   ]
  },
  {
   "cell_type": "markdown",
   "id": "fbdf6f73-1abc-40f9-b1d2-313388d1ee41",
   "metadata": {},
   "source": [
    "### Condicional (if)"
   ]
  },
  {
   "cell_type": "code",
   "execution_count": null,
   "id": "f3969734-27d9-427f-99a7-a3a302126447",
   "metadata": {},
   "outputs": [],
   "source": [
    "int a = 10;\n",
    "if (a == 10)\n",
    "  System.out.println(\"Es 10\");\n",
    "else\n",
    "  System.out.println(\"No es 10\");"
   ]
  },
  {
   "cell_type": "code",
   "execution_count": null,
   "id": "1983ce87-b46c-48ae-8f29-6780c70e96b0",
   "metadata": {},
   "outputs": [],
   "source": [
    "int i = 2;\n",
    "switch (i) {\n",
    "  case 1:{ System.out.println(\"Es 1\"); break; }\n",
    "  case 2:{ System.out.println(\"Es 2\"); break; }\n",
    "  case 3:{ System.out.println(\"Es 3\"); break; }\n",
    "  default: System.out.println(\"No es 1 ni 2 ni 3\");\n",
    "}"
   ]
  },
  {
   "cell_type": "markdown",
   "id": "d431e6d1-9874-464b-a998-0df1dfdc772b",
   "metadata": {},
   "source": [
    "### Bucle indeterminado (while)"
   ]
  },
  {
   "cell_type": "code",
   "execution_count": null,
   "id": "04437662-1d0c-4802-a9c4-073f6fa30776",
   "metadata": {},
   "outputs": [],
   "source": [
    "int x = 0;\n",
    "while (x < 3) { \n",
    "  System.out.println(x);\n",
    "  x += 1;\n",
    "}"
   ]
  },
  {
   "cell_type": "markdown",
   "id": "41902865-3eb3-4395-b72e-969c902b919f",
   "metadata": {},
   "source": [
    "### Bucle determinado (for)"
   ]
  },
  {
   "cell_type": "code",
   "execution_count": null,
   "id": "5b9dea25-7267-4ab4-800d-68354a8e2036",
   "metadata": {},
   "outputs": [],
   "source": [
    "for (int i=0; i < 8; i++)\n",
    "  System.out.println(i);"
   ]
  },
  {
   "cell_type": "code",
   "execution_count": null,
   "id": "781a6b66-e42b-44b3-96fa-dcd522b7ce55",
   "metadata": {},
   "outputs": [],
   "source": [
    "String[] arreglo = {\"oi\", \"ola\", \"hola\"};\n",
    "for (String palabra: arreglo) \n",
    "  System.out.println(palabra);"
   ]
  },
  {
   "cell_type": "markdown",
   "id": "665fd6d8-13c2-4d6b-a812-825836275f95",
   "metadata": {},
   "source": [
    "## Funciones"
   ]
  },
  {
   "cell_type": "code",
   "execution_count": null,
   "id": "1cc46e3c-40d2-4d8f-8543-7b9e5928e733",
   "metadata": {},
   "outputs": [],
   "source": [
    "public class Calculo {\n",
    "\n",
    "  public static void main(String [] args) {\n",
    "    System.out.println(Calculo.sumar(2.5, 3.3));\n",
    "  }\n",
    "\n",
    "  public static double sumar(double a, double b) {\n",
    "    return a + b;\n",
    "  }\n",
    "\n",
    "}"
   ]
  },
  {
   "cell_type": "markdown",
   "id": "e40aa875-1631-44eb-8068-17f88b5573e2",
   "metadata": {},
   "source": [
    "### Argumentos variables (varargs)"
   ]
  },
  {
   "cell_type": "code",
   "execution_count": null,
   "id": "e9e7b4f0-c04e-44fe-9ea2-08902107bbfc",
   "metadata": {},
   "outputs": [],
   "source": [
    "public static void main(String[] args) {\n",
    "  System.out.println(sum_all(1));\n",
    "  System.out.println(sum_all(1, 2));\n",
    "  System.out.println(sum_all(1, 2, 3));\n",
    "}\n",
    "\n",
    "public static double sum_all(Double...varargs) {\n",
    "  double suma = 0;\n",
    "  for (Double v : varargs)\n",
    "    suma += v;\n",
    "  return suma;\n",
    "}"
   ]
  },
  {
   "cell_type": "markdown",
   "id": "5fca05ad-d38a-46da-913b-26473dbacedd",
   "metadata": {},
   "source": [
    "### Documentar una función"
   ]
  },
  {
   "cell_type": "code",
   "execution_count": null,
   "id": "8d2c1ea3-184f-40f6-a104-a6a8515e3b93",
   "metadata": {},
   "outputs": [],
   "source": [
    "/**\n",
    " *  Calcula el área de un cuadrado\n",
    "    elevando al cuadrado el lado pasado\n",
    "    por parámetro\n",
    "*/\n",
    "public static double areaCuadrado(double lado) {\n",
    "    return lado * lado;\n",
    "}"
   ]
  },
  {
   "cell_type": "markdown",
   "id": "7a001aa1-94c2-4b5f-a235-f58e9abba83e",
   "metadata": {},
   "source": [
    "## Resumen\n",
    "---"
   ]
  },
  {
   "attachments": {},
   "cell_type": "markdown",
   "id": "1de4af18-d7d8-4a85-b853-410a69618446",
   "metadata": {},
   "source": [
    "![sintaxis.jpg](img/sintaxis.jpg)"
   ]
  }
 ],
 "metadata": {
  "kernelspec": {
   "display_name": "Python [conda env:base] *",
   "language": "python",
   "name": "conda-base-py"
  },
  "language_info": {
   "codemirror_mode": {
    "name": "ipython",
    "version": 3
   },
   "file_extension": ".py",
   "mimetype": "text/x-python",
   "name": "python",
   "nbconvert_exporter": "python",
   "pygments_lexer": "ipython3",
   "version": "3.12.7"
  }
 },
 "nbformat": 4,
 "nbformat_minor": 5
}
