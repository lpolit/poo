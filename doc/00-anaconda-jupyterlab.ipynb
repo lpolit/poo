{
 "cells": [
  {
   "cell_type": "markdown",
   "id": "735f7246-d086-4424-9d04-0d4f54aca6a9",
   "metadata": {},
   "source": [
    "# Anaconda -> JupyterLab\n",
    "---"
   ]
  },
  {
   "cell_type": "markdown",
   "id": "6add0ba9-49f6-44bf-be25-d7876bac7542",
   "metadata": {},
   "source": [
    "## Jupiter Notebooks\n",
    "---"
   ]
  },
  {
   "cell_type": "markdown",
   "id": "a4275eb1-5881-456d-973d-8d59be07dc66",
   "metadata": {},
   "source": [
    "### Qué\n",
    "---\n",
    "\n",
    "* Es una aplicación web para crear y compartir código, por ejemplo, Python\n",
    "* Utilizan celdas:\n",
    "  * **celdas de texto**: donde se puede redactar cualquier tipo de texto (Markdown, Raw)\n",
    "  * **celdas de código**: para la ejecución del código (Code)\n",
    "* Utilidad:\n",
    "  * Ejecutar código en celdas\n",
    "  * Guardar imágenes y tablas\n",
    "  * Fácil de compartir"
   ]
  },
  {
   "cell_type": "markdown",
   "id": "0a7090e0-7ca3-4cb5-8bc9-70c6c461e0f6",
   "metadata": {},
   "source": [
    "### Cómo\n",
    "---\n",
    "\n",
    "* Mediante **Anaconda Navigator**, que es una distibución de código abierto de Python y R, para aplicaciones de Data Science, ML e IA\n",
    "* Permite trabajar con paquetes y entornos sin necesidad de escribir comandos conda en una terminal\n",
    "* Pasos:\n",
    "    1. [Descargar anaconda: https://www.anaconda.com/download/success](https://www.anaconda.com/download/success)\n",
    "    2. En la columna \"Distribution Installer\", seleccionar el Sistema Operativo\n",
    "    3. Descargar el instalador\n",
    "    4. Ejecutar el instalador (todo siguiente)\n",
    "    5. Abrir Anaconda\n",
    "    6. Lanzar JupyterLab\n",
    "    7. Click en Notebook Python\n",
    "    8. Escribir en una celda: print('Hola mundo')\n",
    "    9. Ejecutar la celda con el botón que parece triángulo (>)\n",
    "    10. Si muestra 'Hola Mundo', ¡Felicitaciones!"
   ]
  },
  {
   "cell_type": "code",
   "execution_count": 1,
   "id": "cce3684f-d3de-41a7-b862-e619ac15c32b",
   "metadata": {},
   "outputs": [
    {
     "name": "stdout",
     "output_type": "stream",
     "text": [
      "Hola mundo\n"
     ]
    }
   ],
   "source": [
    "print('Hola mundo')"
   ]
  },
  {
   "cell_type": "markdown",
   "id": "9945dde9-0d32-4303-b323-4a780b82b66f",
   "metadata": {},
   "source": [
    "### Compartir notebook\n",
    "---\n",
    "\n",
    "|              | Notebook en .ipynb           | Página web en .html            |\n",
    "| --           | --                           | --                             |\n",
    "| **Lo bueno** | otros pueden ejecutar código | No hace falta instalar nada    |\n",
    "| **Lo malo**  | necesitas tener Jupyter      | solo se puede leer lo que está |\n",
    "\n",
    "* File/Save and Export Notebook As/HTML"
   ]
  }
 ],
 "metadata": {
  "kernelspec": {
   "display_name": "Python [conda env:base] *",
   "language": "python",
   "name": "conda-base-py"
  },
  "language_info": {
   "codemirror_mode": {
    "name": "ipython",
    "version": 3
   },
   "file_extension": ".py",
   "mimetype": "text/x-python",
   "name": "python",
   "nbconvert_exporter": "python",
   "pygments_lexer": "ipython3",
   "version": "3.12.7"
  }
 },
 "nbformat": 4,
 "nbformat_minor": 5
}
