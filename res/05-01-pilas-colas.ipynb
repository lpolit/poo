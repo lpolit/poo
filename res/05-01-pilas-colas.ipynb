{
 "cells": [
  {
   "cell_type": "markdown",
   "id": "398d6f0f-9202-4177-b4d2-a5f9613d7cba",
   "metadata": {},
   "source": [
    "# TP - Pilas\n",
    "---"
   ]
  },
  {
   "cell_type": "markdown",
   "id": "f1794eef-fea6-400b-9b1c-240bbfd18273",
   "metadata": {},
   "source": [
    "## Teletipo"
   ]
  },
  {
   "cell_type": "markdown",
   "id": "1795ba5d-367b-465b-bda5-9221fab0b3ab",
   "metadata": {},
   "source": [
    "En una terminal de teletipo existe un carácter de retroceso que permite cancelar el último carácter. Por ejemplo: si el carácter de retroceso es /, entonces la línea abc/d//e será interpretada como ae. Existe también un carácter anulador que elimina todos los caracteres ingresados hasta el momento, suponga que ese carácter es &. Realice un método que dada una tira de caracteres terminadas con * (leída del archivo “Fuente.txt”) ejecute las operaciones indicadas si se encuentra con el carácter / o el &. Debe por último imprimir la tira resultante"
   ]
  },
  {
   "cell_type": "code",
   "execution_count": null,
   "id": "f8afa729-e239-40ea-ac6c-86f024a48777",
   "metadata": {},
   "outputs": [],
   "source": []
  },
  {
   "cell_type": "markdown",
   "id": "5e36ddb1-d015-4a80-ae35-6858314a0442",
   "metadata": {},
   "source": [
    "## Inverso"
   ]
  },
  {
   "cell_type": "markdown",
   "id": "12e97064-ba1f-43c0-8821-1475a50053c9",
   "metadata": {},
   "source": [
    "Se ingresa por teclado un conjunto de valores que finaliza con la llegada de un 0 (cero). Se pide mostrar los elementos del conjunto en orden inverso al original. Usar pila"
   ]
  },
  {
   "cell_type": "code",
   "execution_count": 1,
   "id": "362198ae-7be9-4580-b5a4-6bc5172ca582",
   "metadata": {},
   "outputs": [
    {
     "data": {
      "text/plain": [
       "'nóicamargorP'"
      ]
     },
     "execution_count": 1,
     "metadata": {},
     "output_type": "execute_result"
    }
   ],
   "source": [
    "def invertir(cadena):\n",
    "    pila = list(cadena)\n",
    "    pila_aux = []\n",
    "    while (len(pila)):\n",
    "        pila_aux.append(pila.pop())\n",
    "    return \"\".join(pila_aux)\n",
    "\n",
    "invertir('Programación')"
   ]
  },
  {
   "cell_type": "markdown",
   "id": "6f4a43c3-6a77-433a-86db-06fc8c6604f0",
   "metadata": {},
   "source": [
    "## Parentesis balanceados"
   ]
  },
  {
   "cell_type": "markdown",
   "id": "f5d2a3a7-9911-46cb-8ec0-b9e7a9db7590",
   "metadata": {},
   "source": [
    "Verifica si una cadena tiene paréntesis correctamente balanceados"
   ]
  },
  {
   "cell_type": "code",
   "execution_count": 6,
   "id": "2c48bace-0ec4-4664-8893-abd26211104c",
   "metadata": {},
   "outputs": [
    {
     "name": "stdout",
     "output_type": "stream",
     "text": [
      "True\n",
      "False\n",
      "False\n",
      "True\n",
      "True\n",
      "True\n",
      "False\n",
      "False\n",
      "True\n",
      "True\n"
     ]
    }
   ],
   "source": [
    "def is_parentesis_balanceados(cadena):\n",
    "    pila = []\n",
    "    for caracter in cadena:\n",
    "        if caracter == '(':\n",
    "            pila.append(caracter)\n",
    "        if caracter == ')' and len(pila) == 0:\n",
    "            return False\n",
    "        if caracter == ')':\n",
    "            pila.pop()\n",
    "    return len(pila) == 0\n",
    "\n",
    "print(is_parentesis_balanceados(''))\n",
    "print(is_parentesis_balanceados('('))\n",
    "print(is_parentesis_balanceados(')'))\n",
    "print(is_parentesis_balanceados('()'))\n",
    "print(is_parentesis_balanceados('()()'))\n",
    "print(is_parentesis_balanceados('(())'))\n",
    "print(is_parentesis_balanceados(')('))\n",
    "print(is_parentesis_balanceados('(()'))\n",
    "print(is_parentesis_balanceados('(()())'))\n",
    "print(is_parentesis_balanceados('()(())'))"
   ]
  },
  {
   "cell_type": "markdown",
   "id": "def918f4-1a83-4f74-8855-3a11c5d23882",
   "metadata": {},
   "source": [
    "# TP - Colas\n",
    "---"
   ]
  },
  {
   "cell_type": "markdown",
   "id": "38e55554-e891-4c7a-887c-f12ebb77920c",
   "metadata": {},
   "source": [
    "## Operaciones cola"
   ]
  },
  {
   "cell_type": "markdown",
   "id": "d505e623-86f4-400a-a1e6-de4733e575c9",
   "metadata": {},
   "source": [
    "Implementa una cola con las operaciones básicas: enqueue, dequeue, peek"
   ]
  },
  {
   "cell_type": "code",
   "execution_count": 2,
   "id": "24ddc4d8-b9ef-4201-aeb1-99d4fa6e1bc8",
   "metadata": {},
   "outputs": [
    {
     "name": "stdout",
     "output_type": "stream",
     "text": [
      "True\n",
      "2\n",
      "4\n",
      "False\n"
     ]
    }
   ],
   "source": [
    "from collections import deque\n",
    "\n",
    "# FIFO\n",
    "class Cola:\n",
    "\n",
    "        def __init__(self):\n",
    "                self.cola = deque()\n",
    "        \n",
    "        def acolar(self, dato):\n",
    "                self.cola.append(dato)\n",
    "        \n",
    "        def desacolar(self):\n",
    "                self.cola.popleft()\n",
    "        \n",
    "        def ver(self):\n",
    "                return self.cola[0]\n",
    "        \n",
    "        def vacia(self):\n",
    "                return len(self.cola) == 0\n",
    "\n",
    "cola = Cola()\n",
    "print(cola.vacia())\n",
    "cola.acolar(2)\n",
    "cola.acolar(4)\n",
    "cola.acolar(3)\n",
    "print(cola.ver())\n",
    "cola.desacolar()\n",
    "print(cola.ver())\n",
    "print(cola.vacia())"
   ]
  },
  {
   "cell_type": "markdown",
   "id": "4cdb4fb9-bf86-4255-b1cb-6d8bee82ecd2",
   "metadata": {},
   "source": [
    "## Banco"
   ]
  },
  {
   "cell_type": "markdown",
   "id": "2a38465d-6074-4370-bcf0-7f389c0f20bd",
   "metadata": {},
   "source": [
    "Simula la atención de clientes en un banco con una cola"
   ]
  },
  {
   "cell_type": "code",
   "execution_count": 3,
   "id": "eb4c80e4-8555-49fe-8ce8-279a8247e8f7",
   "metadata": {},
   "outputs": [
    {
     "name": "stdout",
     "output_type": "stream",
     "text": [
      "Atendiendo a Ana\n",
      "Atendiendo a Luis\n",
      "Atendiendo a Pedro\n",
      "Atendiendo a Lucía\n"
     ]
    }
   ],
   "source": [
    "from collections import deque\n",
    "\n",
    "clientes = deque([\"Ana\", \"Luis\", \"Pedro\", \"Lucía\"])\n",
    "\n",
    "while clientes:\n",
    "    print(f\"Atendiendo a {clientes.popleft()}\")"
   ]
  },
  {
   "cell_type": "markdown",
   "id": "8e9ef42f-c231-4e47-a2a4-bf6831f4d2ea",
   "metadata": {},
   "source": [
    "## Supermercado"
   ]
  },
  {
   "cell_type": "markdown",
   "id": "1437e585-2663-466a-a9d6-f3bdbb69740f",
   "metadata": {},
   "source": [
    "En un supermercado se mantiene una cola A con diversos clientes de los que se conoce número de ubicación en la cola y cantidad de productos que lleva. Se abre una nueva cola B para clientes que llevan menos de 5 productos. Usted debe dejar en la cola A los clientes que llevan más de 5 o hasta 5 productos en el orden en que estaban, y en la cola B los que compran menos de 5 artículos, respetando el orden que tenían en la cola A. En ambas colas reasignar un nuevo número de ubicación"
   ]
  },
  {
   "cell_type": "code",
   "execution_count": null,
   "id": "a707832b-cb17-420c-8101-8ae090e195f3",
   "metadata": {},
   "outputs": [],
   "source": []
  }
 ],
 "metadata": {
  "kernelspec": {
   "display_name": "Python [conda env:base] *",
   "language": "python",
   "name": "conda-base-py"
  },
  "language_info": {
   "codemirror_mode": {
    "name": "ipython",
    "version": 3
   },
   "file_extension": ".py",
   "mimetype": "text/x-python",
   "name": "python",
   "nbconvert_exporter": "python",
   "pygments_lexer": "ipython3",
   "version": "3.12.7"
  }
 },
 "nbformat": 4,
 "nbformat_minor": 5
}
